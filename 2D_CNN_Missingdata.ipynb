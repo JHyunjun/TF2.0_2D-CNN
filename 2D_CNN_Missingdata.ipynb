{
  "nbformat": 4,
  "nbformat_minor": 0,
  "metadata": {
    "colab": {
      "private_outputs": true,
      "provenance": [],
      "gpuType": "T4",
      "authorship_tag": "ABX9TyOnvHQzvNSS5sYyB+R0kwCw",
      "include_colab_link": true
    },
    "kernelspec": {
      "name": "python3",
      "display_name": "Python 3"
    },
    "language_info": {
      "name": "python"
    },
    "accelerator": "GPU"
  },
  "cells": [
    {
      "cell_type": "markdown",
      "metadata": {
        "id": "view-in-github",
        "colab_type": "text"
      },
      "source": [
        "<a href=\"https://colab.research.google.com/github/JHyunjun/TF2.0_2D-CNN/blob/main/2D_CNN_Missingdata.ipynb\" target=\"_parent\"><img src=\"https://colab.research.google.com/assets/colab-badge.svg\" alt=\"Open In Colab\"/></a>"
      ]
    },
    {
      "cell_type": "code",
      "execution_count": null,
      "metadata": {
        "id": "NVP4tf9VMHW1"
      },
      "outputs": [],
      "source": [
        "import numpy as np\n",
        "import tensorflow as tf\n",
        "from tensorflow.keras.layers import Input, Conv2D, Reshape\n",
        "from tensorflow.keras.models import Model\n",
        "\n",
        "# 임의의 3차원 시계열 데이터 생성 (예: shape=(1000, 10, 10))\n",
        "data = np.random.rand(1000, 10, 10)\n",
        "\n",
        "# 데이터 내 일부를 무작위로 선택하여 0으로 설정\n",
        "missing_rate = 0.1  # 결측치 비율\n",
        "n_missing = int(np.product(data.shape) * missing_rate)\n",
        "idx_missing = np.random.randint(0, np.product(data.shape), n_missing)\n",
        "np.put(data, idx_missing, [0])\n",
        "\n",
        "# 결측치를 포함한 데이터와 원본 데이터를 준비\n",
        "X = data.reshape(data.shape[0], data.shape[1], data.shape[2], 1)  # Conv2D를 위한 차원 추가\n",
        "y = data\n",
        "\n",
        "# 2D CNN 모델 정의\n",
        "inputs = Input(shape=(10, 10, 1))\n",
        "x = Conv2D(64, (3, 3), activation='relu', padding='same')(inputs)\n",
        "x = Conv2D(32, (3, 3), activation='relu', padding='same')(x)\n",
        "outputs = Conv2D(1, (3, 3), activation='linear', padding='same')(x)\n",
        "model = Model(inputs=inputs, outputs=outputs)\n",
        "\n",
        "# 모델 컴파일 및 훈련\n",
        "model.compile(optimizer='adam', loss='mse')\n",
        "model.fit(X, y, epochs=10)\n",
        "\n",
        "# 결측치 예측\n",
        "predicted = model.predict(X)\n",
        "\n",
        "# 0값을 예측값으로 채우기\n",
        "data_filled = data.copy()\n",
        "data_filled[data == 0] = predicted[data == 0]\n"
      ]
    }
  ]
}