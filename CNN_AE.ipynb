{
  "nbformat": 4,
  "nbformat_minor": 0,
  "metadata": {
    "colab": {
      "name": "CNN_220602.ipynb",
      "private_outputs": true,
      "provenance": [],
      "collapsed_sections": [],
      "mount_file_id": "1gZm7G_NqtBzi4DYRIYIjOBnc65Ughd6G",
      "authorship_tag": "ABX9TyMNfuDcHtsUDVxmvwFuaZKU",
      "include_colab_link": true
    },
    "kernelspec": {
      "name": "python3",
      "display_name": "Python 3"
    },
    "language_info": {
      "name": "python"
    },
    "accelerator": "GPU"
  },
  "cells": [
    {
      "cell_type": "markdown",
      "metadata": {
        "id": "view-in-github",
        "colab_type": "text"
      },
      "source": [
        "<a href=\"https://colab.research.google.com/github/JHyunjun/TF2.0_2D-CNN/blob/main/CNN_AE.ipynb\" target=\"_parent\"><img src=\"https://colab.research.google.com/assets/colab-badge.svg\" alt=\"Open In Colab\"/></a>"
      ]
    },
    {
      "cell_type": "code",
      "metadata": {
        "id": "CIppXB2WmITS"
      },
      "source": [
        "#AI_Competition Created by Hyunjun\n",
        "#Date : 2022.06.02\n",
        "\n",
        "import tensorflow as tf\n",
        "from tensorflow.keras import datasets, layers, models\n",
        "import matplotlib.pyplot as plt\n",
        "(train_images, train_labels), (test_images, test_labels) = datasets.mnist.load_data()\n",
        "\n",
        "train_images = train_images.reshape((60000, 28, 28, 1))\n",
        "test_images = test_images.reshape((10000, 28, 28, 1))\n",
        "\n",
        "# Normalization (0~1)\n",
        "train_images, test_images = train_images / 255.0, test_images / 255.0"
      ],
      "execution_count": null,
      "outputs": []
    },
    {
      "cell_type": "code",
      "metadata": {
        "id": "fVa1I5WIo-xq"
      },
      "source": [
        "#CNN part\n",
        "model = models.Sequential()\n",
        "model.add(layers.Conv2D(20, (5, 5), activation='relu', input_shape=(28, 28, 1)))\n",
        "model.add(layers.MaxPooling2D(pool_size = (2, 2), strides = (2,2), padding='Valid'))\n",
        "model.add(layers.Conv2D(50, (5, 5), activation='relu'))\n",
        "model.add(layers.MaxPooling2D(pool_size = (2, 2), strides = (2,2), padding='Valid'))\n",
        "model.summary()"
      ],
      "execution_count": null,
      "outputs": []
    },
    {
      "cell_type": "code",
      "metadata": {
        "id": "FdNSMXxCrfOt"
      },
      "source": [
        "#Dense Layer part\n",
        "learning_rate = 0.001\n",
        "batch_size = 128\n",
        "drop_rate = 0.3\n",
        "model.add(layers.Flatten())\n",
        "model.add(layers.Dense(500, use_bias = True, activation = 'relu'))\n",
        "model.add(layers.Dropout(drop_rate))\n",
        "model.add(layers.Dense(10, activation = 'softmax'))\n",
        "\n",
        "model.summary()"
      ],
      "execution_count": null,
      "outputs": []
    },
    {
      "cell_type": "code",
      "metadata": {
        "id": "5p7En_FXo6yE"
      },
      "source": [
        "model.compile(optimizer=tf.keras.optimizers.Adam(lr=learning_rate), loss='sparse_categorical_crossentropy',metrics=['accuracy'])\n",
        "history = model.fit(train_images, train_labels, batch_size = batch_size, validation_split=0.2, epochs = 30, verbose = 1)\n",
        "\n",
        "# Accuracy Visualization\n",
        "plt.plot(history.history['accuracy'])\n",
        "plt.plot(history.history['val_accuracy'])\n",
        "plt.title('Model accuracy')\n",
        "plt.xlabel('Epoch')\n",
        "plt.ylabel('Accuracy')\n",
        "plt.legend(['Train', 'Test'], loc='upper left')\n",
        "plt.show()\n",
        "\n",
        "# Loss visualization\n",
        "plt.plot(history.history['loss'])\n",
        "plt.plot(history.history['val_loss'])\n",
        "plt.title('Model loss')\n",
        "plt.xlabel('Epoch')\n",
        "plt.ylabel('Loss')\n",
        "plt.legend(['Train', 'Test'], loc='upper left')\n",
        "plt.show()"
      ],
      "execution_count": null,
      "outputs": []
    },
    {
      "cell_type": "code",
      "metadata": {
        "id": "Q6MCfwGz8Ela"
      },
      "source": [
        "#Testifying\n",
        "test_loss, test_acc = model.evaluate(test_images, test_labels, verbose = 2)\n",
        "train_loss, train_acc = model.evaluate(train_images, train_labels, verbose = 2)\n",
        "print(\"Test Accuracy : \", test_acc)\n",
        "print(\"Train Accuracy : \", train_acc)"
      ],
      "execution_count": null,
      "outputs": []
    },
    {
      "cell_type": "code",
      "source": [
        "#Noise AutoEncoder with 2D-CNN\n",
        "\n",
        "(train_images, train_labels), (test_images, test_labels) = datasets.mnist.load_data()\n",
        "\n",
        "train_images = train_images.reshape((60000, 28, 28, 1))\n",
        "test_images = test_images.reshape((10000, 28, 28, 1))\n",
        "\n",
        "# Normalization (0~1)\n",
        "train_images, test_images = train_images / 255.0, test_images / 255.0\n",
        "\n",
        "x_train = train_images\n",
        "x_test = test_images\n",
        "noise_factor = 0.2\n",
        "x_train_noisy = x_train + noise_factor * tf.random.normal(shape=x_train.shape) \n",
        "x_test_noisy = x_test + noise_factor * tf.random.normal(shape=x_test.shape) \n",
        "\n",
        "x_train_noisy = tf.clip_by_value(x_train_noisy, clip_value_min=0., clip_value_max=1.)\n",
        "x_test_noisy = tf.clip_by_value(x_test_noisy, clip_value_min=0., clip_value_max=1.)"
      ],
      "metadata": {
        "id": "QAYZOOri-bJJ"
      },
      "execution_count": null,
      "outputs": []
    },
    {
      "cell_type": "code",
      "source": [
        "#2D-CNN AutoEncoder Design\n",
        "#Concept : Input Image(28*28*1) -> CNN-> CNN -> NN(Node 100) -> NN(Node 400) -> Reconstructed Image(28*28*1)\n",
        "#본디 AutoEncoder란 낮은 Dimension으로 Feature압축한 후 Reconstruct하는것이 일반적이지만, 네트워크설계에 제한이 없기에 하기와 같이 구현\n",
        "\n",
        "learning_rate = 0.001\n",
        "batch_size = 64\n",
        "drop_rate = 0.1\n",
        "#Encoding\n",
        "model = models.Sequential()\n",
        "model.add(layers.Conv2D(50, (3, 3), activation='relu', input_shape = (28, 28, 1)))\n",
        "model.add(layers.MaxPooling2D(pool_size = (2, 2), strides = (2,2), padding = 'Valid'))\n",
        "model.add(layers.Conv2D(50, (3, 3), activation='relu'))\n",
        "model.add(layers.MaxPooling2D(pool_size = (2, 2), strides = (2,2), padding = 'Valid'))\n",
        "\n",
        "#Decoding\n",
        "model.add(layers.Conv2D(50, (3, 3), activation='relu'))\n",
        "model.add(upsampling2d(2,2))\n",
        "\n",
        "\n",
        "\n",
        "\n",
        "'''\n",
        "model.add(layers.Flatten())\n",
        "model.add(layers.Dense(100, use_bias = True, activation = 'relu'))\n",
        "model.add(layers.Dense(400, use_bias = True, activation = 'relu'))\n",
        "model.add(layers.Dropout(drop_rate))\n",
        "model.add(layers.Dense(784, activation = 'linear'))\n",
        "model.add(tf.keras.layers.Reshape((28, 28, 1)))\n",
        "model.summary()\n",
        "'''"
      ],
      "metadata": {
        "id": "n7fB9H8g-99S"
      },
      "execution_count": null,
      "outputs": []
    },
    {
      "cell_type": "code",
      "source": [
        "model.compile(optimizer=tf.keras.optimizers.Adam(lr=learning_rate), loss='sparse_categorical_crossentropy',metrics=['accuracy'])\n",
        "history = model.fit(x_train_noisy, x_train, batch_size = batch_size, validation_split=0.2, epochs = 10, verbose = 1)\n",
        "\n",
        "# Accuracy Visualization\n",
        "plt.plot(history.history['accuracy'])\n",
        "plt.plot(history.history['val_accuracy'])\n",
        "plt.title('Model accuracy')\n",
        "plt.xlabel('Epoch')\n",
        "plt.ylabel('Accuracy')\n",
        "plt.legend(['Train', 'Test'], loc='upper left')\n",
        "plt.show()\n",
        "\n",
        "# Loss visualization\n",
        "plt.plot(history.history['loss'])\n",
        "plt.plot(history.history['val_loss'])\n",
        "plt.title('Model loss')\n",
        "plt.xlabel('Epoch')\n",
        "plt.ylabel('Loss')\n",
        "plt.legend(['Train', 'Test'], loc='upper left')\n",
        "plt.show()"
      ],
      "metadata": {
        "id": "4xaccqB9Bpgy"
      },
      "execution_count": null,
      "outputs": []
    }
  ]
}