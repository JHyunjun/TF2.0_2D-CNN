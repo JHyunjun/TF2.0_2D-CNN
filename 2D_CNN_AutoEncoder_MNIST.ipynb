{
  "nbformat": 4,
  "nbformat_minor": 0,
  "metadata": {
    "colab": {
      "name": "2D-CNN_AutoEncoder_MNIST.ipynb",
      "private_outputs": true,
      "provenance": [],
      "collapsed_sections": [],
      "mount_file_id": "1gZm7G_NqtBzi4DYRIYIjOBnc65Ughd6G",
      "authorship_tag": "ABX9TyMznSb+7N+q63maF/RX1Rhq",
      "include_colab_link": true
    },
    "kernelspec": {
      "name": "python3",
      "display_name": "Python 3"
    },
    "language_info": {
      "name": "python"
    },
    "accelerator": "GPU"
  },
  "cells": [
    {
      "cell_type": "markdown",
      "metadata": {
        "id": "view-in-github",
        "colab_type": "text"
      },
      "source": [
        "<a href=\"https://colab.research.google.com/github/JHyunjun/TF2.0_2D-CNN/blob/main/2D_CNN_AutoEncoder_MNIST.ipynb\" target=\"_parent\"><img src=\"https://colab.research.google.com/assets/colab-badge.svg\" alt=\"Open In Colab\"/></a>"
      ]
    },
    {
      "cell_type": "code",
      "metadata": {
        "id": "CIppXB2WmITS"
      },
      "source": [
        "#AI_Competition Created by Hyunjun\n",
        "#Date : 2022.06.02\n",
        "\n",
        "import tensorflow as tf\n",
        "from tensorflow.keras import datasets, layers, models\n",
        "import matplotlib.pyplot as plt\n",
        "(train_images, train_labels), (test_images, test_labels) = datasets.mnist.load_data()\n",
        "\n",
        "train_images = train_images.reshape((60000, 28, 28, 1))\n",
        "test_images = test_images.reshape((10000, 28, 28, 1))\n",
        "\n",
        "# Normalization (0~1)\n",
        "train_images, test_images = train_images / 255.0, test_images / 255.0"
      ],
      "execution_count": null,
      "outputs": []
    },
    {
      "cell_type": "code",
      "metadata": {
        "id": "fVa1I5WIo-xq"
      },
      "source": [
        "#CNN part\n",
        "model = models.Sequential()\n",
        "model.add(layers.Conv2D(20, (5, 5), activation='relu', input_shape=(28, 28, 1)))\n",
        "model.add(layers.MaxPooling2D(pool_size = (2, 2), strides = (2,2), padding='Valid'))\n",
        "model.add(layers.Conv2D(50, (5, 5), activation='relu'))\n",
        "model.add(layers.MaxPooling2D(pool_size = (2, 2), strides = (2,2), padding='Valid'))\n",
        "model.summary()"
      ],
      "execution_count": null,
      "outputs": []
    },
    {
      "cell_type": "code",
      "metadata": {
        "id": "FdNSMXxCrfOt"
      },
      "source": [
        "#Dense Layer part\n",
        "learning_rate = 0.001\n",
        "batch_size = 128\n",
        "drop_rate = 0.3\n",
        "model.add(layers.Flatten())\n",
        "model.add(layers.Dense(500, use_bias = True, activation = 'relu'))\n",
        "model.add(layers.Dropout(drop_rate))\n",
        "model.add(layers.Dense(10, activation = 'softmax'))\n",
        "\n",
        "model.summary()"
      ],
      "execution_count": null,
      "outputs": []
    },
    {
      "cell_type": "code",
      "metadata": {
        "id": "5p7En_FXo6yE"
      },
      "source": [
        "model.compile(optimizer=tf.keras.optimizers.Adam(lr=learning_rate), loss='sparse_categorical_crossentropy',metrics=['accuracy'])\n",
        "history = model.fit(train_images, train_labels, batch_size = batch_size, validation_split=0.2, epochs = 10, verbose = 1)\n",
        "\n",
        "# Accuracy Visualization\n",
        "plt.plot(history.history['accuracy'])\n",
        "plt.plot(history.history['val_accuracy'])\n",
        "plt.title('Model accuracy')\n",
        "plt.xlabel('Epoch')\n",
        "plt.ylabel('Accuracy')\n",
        "plt.legend(['Train', 'Test'], loc='upper left')\n",
        "plt.show()\n",
        "\n",
        "# Loss visualization\n",
        "plt.plot(history.history['loss'])\n",
        "plt.plot(history.history['val_loss'])\n",
        "plt.title('Model loss')\n",
        "plt.xlabel('Epoch')\n",
        "plt.ylabel('Loss')\n",
        "plt.legend(['Train', 'Test'], loc='upper left')\n",
        "plt.show()"
      ],
      "execution_count": null,
      "outputs": []
    },
    {
      "cell_type": "code",
      "metadata": {
        "id": "Q6MCfwGz8Ela"
      },
      "source": [
        "#Testifying\n",
        "test_loss, test_acc = model.evaluate(test_images, test_labels, verbose = 2)\n",
        "train_loss, train_acc = model.evaluate(train_images, train_labels, verbose = 2)\n",
        "print(\"Test Accuracy : \", test_acc)\n",
        "print(\"Train Accuracy : \", train_acc)"
      ],
      "execution_count": null,
      "outputs": []
    },
    {
      "cell_type": "code",
      "source": [
        "#Noise AutoEncoder with 2D-CNN\n",
        "\n",
        "(train_images, train_labels), (test_images, test_labels) = datasets.mnist.load_data()\n",
        "print(train_images[0].shape)\n",
        "plt.imshow(train_images[1])\n",
        "#train_images = train_images.reshape((60000, 28, 28, 1))\n",
        "#test_images = test_images.reshape((10000, 28, 28, 1))\n",
        "\n",
        "# Normalization (0~1)\n",
        "train_images, test_images = train_images / 255.0, test_images / 255.0\n",
        "\n",
        "x_train = train_images\n",
        "x_test = test_images\n",
        "noise_factor = 0.2\n",
        "x_train_noisy = x_train + noise_factor * tf.random.normal(shape=x_train.shape) \n",
        "x_test_noisy = x_test + noise_factor * tf.random.normal(shape=x_test.shape) \n",
        "print(x_train_noisy[0].shape)\n",
        "x_train_noisy = tf.clip_by_value(x_train_noisy, clip_value_min=0., clip_value_max=1.)\n",
        "x_test_noisy = tf.clip_by_value(x_test_noisy, clip_value_min=0., clip_value_max=1.)\n",
        "print(x_train_noisy[0].shape)\n",
        "print(x_test_noisy[0].shape)"
      ],
      "metadata": {
        "id": "QAYZOOri-bJJ"
      },
      "execution_count": null,
      "outputs": []
    },
    {
      "cell_type": "code",
      "source": [
        "n = 5  \n",
        "plt.figure(figsize=(n*2, 4))\n",
        "for i in range(1, n+1):\n",
        "    # Original Train Data\n",
        "    ax = plt.subplot(2, n, i)\n",
        "    plt.imshow(x_train[i].reshape(28, 28))\n",
        "    plt.gray()\n",
        "    ax.get_xaxis().set_visible(False)\n",
        "    ax.get_yaxis().set_visible(False)\n",
        " \n",
        "    # Noisy Train Data\n",
        "    ax = plt.subplot(2, n, i + n)\n",
        "    plt.imshow(x_train_noisy[i])\n",
        "    plt.gray()\n",
        "    ax.get_xaxis().set_visible(False)\n",
        "    ax.get_yaxis().set_visible(False)\n",
        "\n",
        "plt.show()"
      ],
      "metadata": {
        "id": "aGSxVf7ojcKG"
      },
      "execution_count": null,
      "outputs": []
    },
    {
      "cell_type": "code",
      "source": [
        "#2D-CNN AutoEncoder Design\n",
        "\n",
        "learning_rate = 0.001\n",
        "batch_size = 128\n",
        "\n",
        "#Encoding\n",
        "model = models.Sequential()\n",
        "model.add(layers.Conv2D(50, (3, 3), activation='relu', padding = 'Same', input_shape = (28, 28, 1)))\n",
        "model.add(layers.MaxPooling2D(pool_size = (2, 2), strides = (2,2), padding = 'Same'))\n",
        "model.add(layers.Conv2D(25, (3, 3), activation='relu', padding = 'Same'))\n",
        "model.add(layers.MaxPooling2D(pool_size = (2, 2), strides = (2,2), padding = 'Same'))\n",
        "\n",
        "#Decoding\n",
        "model.add(layers.Conv2D(25, (3, 3), activation='relu',padding = 'Same'))\n",
        "model.add(layers.UpSampling2D((2, 2)))\n",
        "model.add(layers.Conv2D(50, (3, 3), activation='relu', padding = 'Same'))\n",
        "model.add(layers.UpSampling2D((2, 2)))\n",
        "model.add(layers.Conv2D(1, (3, 3), activation='sigmoid', padding='Same'))\n",
        "model.summary()\n",
        "\n"
      ],
      "metadata": {
        "id": "n7fB9H8g-99S"
      },
      "execution_count": null,
      "outputs": []
    },
    {
      "cell_type": "code",
      "source": [
        "model.compile(optimizer='Adam', loss='binary_crossentropy',metrics=['accuracy'])\n",
        "model.fit(x_train_noisy, x_train, batch_size = batch_size, epochs = 10, verbose = 1)\n",
        "out = model.predict(x_test_noisy)\n",
        "out = tf.squeeze(out)\n",
        "\n",
        "n = 5  \n",
        "plt.figure(figsize=(n*2, 4))\n",
        "for i in range(1, n+1):\n",
        "    # Noise Test Data\n",
        "    ax = plt.subplot(2, n, i)\n",
        "    plt.imshow(x_test_noisy[i])\n",
        "    print(\"Encoded : \",x_test_noisy[i].shape)\n",
        "    plt.gray()\n",
        "    ax.get_xaxis().set_visible(False)\n",
        "    ax.get_yaxis().set_visible(False)\n",
        " \n",
        "    # Noise Reducted Data\n",
        "    ax = plt.subplot(2, n, i + n)\n",
        "    plt.imshow(out[i])\n",
        "    plt.gray()\n",
        "    ax.get_xaxis().set_visible(False)\n",
        "    ax.get_yaxis().set_visible(False)\n",
        "\n",
        "plt.show()\n"
      ],
      "metadata": {
        "id": "4xaccqB9Bpgy"
      },
      "execution_count": null,
      "outputs": []
    }
  ]
}