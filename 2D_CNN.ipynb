{
  "nbformat": 4,
  "nbformat_minor": 0,
  "metadata": {
    "colab": {
      "name": "2D-CNN.ipynb",
      "private_outputs": true,
      "provenance": [],
      "collapsed_sections": [],
      "mount_file_id": "14IbqReHTREJLyzS8FM7OchWaHspehNnG",
      "authorship_tag": "ABX9TyNcEH5P/KCdHIEnItLp0BBK",
      "include_colab_link": true
    },
    "kernelspec": {
      "name": "python3",
      "display_name": "Python 3"
    },
    "language_info": {
      "name": "python"
    },
    "accelerator": "GPU"
  },
  "cells": [
    {
      "cell_type": "markdown",
      "metadata": {
        "id": "view-in-github",
        "colab_type": "text"
      },
      "source": [
        "<a href=\"https://colab.research.google.com/github/JHyunjun/TF2.0_2D-CNN_Reg/blob/main/2D_CNN.ipynb\" target=\"_parent\"><img src=\"https://colab.research.google.com/assets/colab-badge.svg\" alt=\"Open In Colab\"/></a>"
      ]
    },
    {
      "cell_type": "code",
      "execution_count": null,
      "metadata": {
        "id": "uCZrz1gHn6rX"
      },
      "outputs": [],
      "source": [
        "from numpy import array\n",
        "from keras.models import Sequential\n",
        "from keras.layers import Dense\n",
        "from keras.layers import Flatten\n",
        "from keras.layers.convolutional import Conv2D\n",
        "from keras.layers.convolutional import MaxPooling2D\n",
        "import tensorflow as tf\n",
        "import pandas as pd\n",
        "import numpy as np\n",
        "import matplotlib.pyplot as plt\n",
        "\n",
        "tf.random.set_seed(1)\n",
        "\n",
        "#Data Load\n",
        "df_train = pd.read_csv('/dir')\n",
        "df_test = pd.read_csv('/dir')\n",
        "train_data_input = df_train.iloc[:,:-1]\n",
        "train_data_output = df_train.iloc[:,-1]\n",
        "test_data_input = df_test.iloc[:,:-1]\n",
        "test_data_output = df_test.iloc[:,-1]\n",
        "print(train_data_input.shape,train_data_input)\n",
        "print(train_data_output.shape, train_data_output)"
      ]
    },
    {
      "cell_type": "code",
      "source": [
        "#Normalization\n",
        "def MinMaxScaler(data):\n",
        "  denom = np.max(data,0) - np.min(data,0)\n",
        "  nume = data-np.min(data,0)\n",
        "  return nume/denom\n",
        "\n",
        "def back_MinMax(data,max,min):\n",
        "  diff = max-min\n",
        "  back = data * diff + min\n",
        "  return back\n",
        "\n"
      ],
      "metadata": {
        "id": "lNF3xvHgqGhN"
      },
      "execution_count": null,
      "outputs": []
    },
    {
      "cell_type": "code",
      "source": [
        "#Hyper parameters\n",
        "seqLength = 10\n",
        "dataDim = df_test.shape[1]\n",
        "outputDim = 1\n",
        "hiddenDim = 10\n",
        "lr = 0.001\n",
        "iterations = 10\n",
        "batch_size = 32\n",
        "\n",
        "train_data = df_train.iloc[:,:]\n",
        "test_data = df_test.iloc[:,:]\n",
        "print(train_data)\n",
        "print(test_data)\n",
        "\n",
        "trainSize = int(len(train_data))\n",
        "trainSet = train_data[0:trainSize]\n",
        "testSize = int(len(test_data))\n",
        "testSet = test_data[0:testSize]\n",
        "testSet_for_result = testSet\n",
        "\n",
        "trainSet_max = np.max(trainSet)\n",
        "trainSet_min = np.min(trainSet)\n",
        "testSet_max = np.max(testSet)\n",
        "testSet_min = np.min(testSet)\n",
        "trainSet_max = (trainSet_max[dataDim-1])\n",
        "trainSet_min = (trainSet_min[dataDim-1])\n",
        "testSet_max = (testSet_max[dataDim-1])\n",
        "testSet_min = (testSet_min[dataDim-1])\n",
        "\n",
        "\n",
        "trainSet = MinMaxScaler(trainSet)\n",
        "testSet = MinMaxScaler(testSet)\n",
        "\n",
        "print(trainSet.shape) # (5807,5)\n",
        "print(testSet.shape) # (10882,5)"
      ],
      "metadata": {
        "id": "IrlfFQajRaLj"
      },
      "execution_count": null,
      "outputs": []
    },
    {
      "cell_type": "code",
      "source": [
        "#Data Windowing\n",
        "def sliding_window(time_series, seq_length):\n",
        "    dataX = []\n",
        "    dataY = []\n",
        "    for i in range(0, len(time_series) - seq_length): \n",
        "        print(i)\n",
        "        _x = time_series.iloc[i:i + seq_length, : -1 ]\n",
        "        _y = time_series.iloc[i + seq_length, [-1]]  \n",
        "        print(_x, \"->\", _y)\n",
        "        dataX.append(_x)\n",
        "        dataY.append(_y)\n",
        "    return np.array(dataX), np.array(dataY)\n",
        "\n",
        "trainX, trainY = sliding_window(trainSet, seqLength)\n",
        "testX, testY = sliding_window(testSet, seqLength)"
      ],
      "metadata": {
        "id": "pLGki-2vRUzS"
      },
      "execution_count": null,
      "outputs": []
    },
    {
      "cell_type": "code",
      "source": [
        "# Hyper Parameter\n",
        "filters = 100\n",
        "kernel_size = (2,2)\n",
        "pooling_size = (2,2)\n",
        "kernel_size2 = (2,2)\n",
        "epochs = 100\n",
        "stride = (1,1)\n",
        "input_shape = train_data_input.shape[1]\n",
        "input_rank = train_data_input.shape[0]\n",
        "\n",
        "#2D-CNN Model\n",
        "model = Sequential()\n",
        "model.add(Conv2D(filters = filters, kernel_size = kernel_size, strides = stride, activation = 'relu', input_shape = (seqLength,input_shape,1)))\n",
        "model.add(Conv2D(filters = filters, kernel_size = kernel_size2, strides = stride, activation = 'relu'))\n",
        "model.add(MaxPooling2D(pool_size = pooling_size))\n",
        "model.add(Flatten())\n",
        "model.add(Dense(48, activation = 'relu'))\n",
        "model.add(Dense(1))\n",
        "model.compile(optimizer='adam', loss='mse')\n",
        "model.summary()"
      ],
      "metadata": {
        "id": "GS4-OEMiqHQ8"
      },
      "execution_count": null,
      "outputs": []
    },
    {
      "cell_type": "code",
      "source": [
        "model.fit(trainX,trainY, epochs = epochs, verbose = 0)"
      ],
      "metadata": {
        "id": "LYnKL-XSQur7"
      },
      "execution_count": null,
      "outputs": []
    },
    {
      "cell_type": "code",
      "source": [
        "# Evaluate Testset\n",
        "res2 = model.evaluate(trainX, trainY, batch_size = batch_size)\n",
        "print(\"Error Rate : \",res2)\n",
        "\n",
        "xhat = testX\n",
        "yhat = model.predict(xhat)\n",
        "\n",
        "#Estimating\n",
        "estimated_testY = back_MinMax(yhat,testSet_max,testSet_min)\n",
        "\n",
        "real = testSet_for_result.iloc[seqLength:,-1] # estimated + seqLength\n",
        "real = real.to_numpy()\n",
        "\n",
        "print(\"real.shape : \",real.shape) \n",
        "print(\"real : \",real)\n",
        "\n",
        "print(\"estimated_testY.shape : \",estimated_testY.shape)\n",
        "print(\"estimated_testY\",estimated_testY)\n",
        "\n",
        "plt.figure()\n",
        "plt.plot(estimated_testY[:len(estimated_testY)],label = \"Estimated by 2D-CNN\")\n",
        "plt.plot(real[:len(real)], label = \"Real\")\n",
        "plt.legend(prop = {'size':10})\n",
        "\n",
        "print(\"1132\")"
      ],
      "metadata": {
        "id": "HhZYKWUpSCdL"
      },
      "execution_count": null,
      "outputs": []
    }
  ]
}