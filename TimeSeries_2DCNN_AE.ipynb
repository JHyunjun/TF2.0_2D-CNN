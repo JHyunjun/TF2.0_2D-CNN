{
  "nbformat": 4,
  "nbformat_minor": 0,
  "metadata": {
    "colab": {
      "private_outputs": true,
      "provenance": [],
      "mount_file_id": "1vsnpFNQEyDnmpLS5WZopA29bhTHCyGXm",
      "authorship_tag": "ABX9TyM5/grY+UTlb/uSnhRYbWGz",
      "include_colab_link": true
    },
    "kernelspec": {
      "name": "python3",
      "display_name": "Python 3"
    },
    "language_info": {
      "name": "python"
    }
  },
  "cells": [
    {
      "cell_type": "markdown",
      "metadata": {
        "id": "view-in-github",
        "colab_type": "text"
      },
      "source": [
        "<a href=\"https://colab.research.google.com/github/JHyunjun/TF2.0_2D-CNN/blob/main/TimeSeries_2DCNN_AE.ipynb\" target=\"_parent\"><img src=\"https://colab.research.google.com/assets/colab-badge.svg\" alt=\"Open In Colab\"/></a>"
      ]
    },
    {
      "cell_type": "code",
      "execution_count": null,
      "metadata": {
        "id": "3IbDfhuhQnSI"
      },
      "outputs": [],
      "source": [
        "# Created by Hyunjun,JANG\n",
        "# limitsinx.tistory.com\n",
        "# Last revision date : 2023.04.29\n",
        "\n",
        "from sklearn.preprocessing import StandardScaler, MinMaxScaler\n",
        "import tensorflow as tf\n",
        "import matplotlib.pyplot as plt\n",
        "import pandas as pd\n",
        "import numpy as np\n",
        "from keras.callbacks import EarlyStopping, Callback\n",
        "from tensorflow.keras.layers import Input, Bidirectional, LSTM, Dense, GRU, Dropout, BatchNormalization, Conv2D, MaxPooling2D, UpSampling2D\n",
        "from tensorflow.keras.models import Model\n",
        "\n",
        "\n",
        "xy_train = np.loadtxt('/content/drive/MyDrive/Colab Notebooks/LSTM/train_v.txt',delimiter=',',dtype=np.float32) #5808\n",
        "xy_test = np.loadtxt('/content/drive/MyDrive/Colab Notebooks/LSTM/test_v.txt',delimiter=',',dtype=np.float32) #10883\n",
        "xy_train = np.delete(xy_train ,3, axis = 1)\n",
        "xy_test = np.delete(xy_test ,3, axis = 1)\n",
        "\n",
        "start_test = 1000\n",
        "middle_test = 2000\n",
        "\n",
        "middle_test1 = 3000\n",
        "end_test = 10000\n",
        "\n",
        "xy_test_1 = xy_test[:start_test,:]\n",
        "xy_test_1n2 = xy_test[start_test:middle_test,:]\n",
        "xy_test_2 = xy_test[middle_test1:end_test,:]\n",
        "\n",
        "xy_train = np.concatenate((xy_train, xy_test_1n2), axis = 0)\n",
        "xy_test = np.concatenate((xy_test_1, xy_test_2), axis = 0)\n",
        "\n",
        "def MinMaxScaler(data) : # Normal Std\n",
        "  numerator = data - np.min(data,0)\n",
        "  denominator = np.max(data,0) - np.min(data,0)\n",
        "\n",
        "  return numerator / (denominator + 1e-7)\n",
        "\n",
        "def origin_minmax(data) : # HJ STYLE\n",
        "  arr_max = np.zeros(data.shape[1])\n",
        "  arr_min = np.zeros(data.shape[1])\n",
        "\n",
        "  for i in range(data.shape[1]) : \n",
        "    max = np.max(data[:,i])\n",
        "    min = np.min(data[:,i])\n",
        "    arr_max[i] = max\n",
        "    arr_min[i] = min\n",
        "    pass\n",
        "  return arr_max, arr_min\n",
        "\n",
        "arr_max_train, arr_min_train = origin_minmax(xy_train)\n",
        "arr_max_test, arr_min_test = origin_minmax(xy_test)\n",
        "arr_max_total = arr_max_train\n",
        "arr_min_total = arr_min_train\n",
        "print(arr_max_train, arr_min_train)\n",
        "print(arr_max_test, arr_min_test)\n",
        "\n",
        "for i in range(xy_train.shape[1]) : \n",
        "  print(i)\n",
        "  if(arr_max_train[i] > arr_max_test[i]) : \n",
        "    arr_max_total[i] = arr_max_train[i]\n",
        "  else : \n",
        "    arr_max_total[i] = arr_max_test[i]\n",
        "  pass\n",
        "\n",
        "for i in range(xy_train.shape[1]) : \n",
        "  if(arr_min_train[i] < arr_min_test[i]) : \n",
        "    arr_min_total[i] = arr_min_train[i]\n",
        "  else : \n",
        "    arr_min_total[i] = arr_min_test[i]\n",
        "  pass\n",
        "\n",
        "print(arr_max_total, arr_min_total)\n",
        "\n",
        "def HJ_MinMaxScaler(data) : \n",
        "  for i in range(data.shape[1]) : \n",
        "    numerator = data[:,i] - arr_min_total[i]\n",
        "    denominator = arr_max_total[i] - arr_min_total[i]\n",
        "    data[:,i] = numerator / (denominator + 1e-7)\n",
        "    \n",
        "  return data\n",
        "\n",
        "def HJ_backMinMax(data) : \n",
        "  for i in range(data.shape[1]) : \n",
        "    data[:,i] = data[:,i] * (arr_max_total[i] - arr_min_total[i]) + arr_min_total[i]\n",
        "\n",
        "  return data\n",
        "\n",
        "xy_train_scale = HJ_MinMaxScaler(xy_train)\n",
        "xy_test_scale = HJ_MinMaxScaler(xy_test)\n"
      ]
    },
    {
      "cell_type": "code",
      "source": [
        "print(xy_train.shape)\n",
        "print(xy_test.shape)"
      ],
      "metadata": {
        "id": "-dFeI18TQykV"
      },
      "execution_count": null,
      "outputs": []
    },
    {
      "cell_type": "code",
      "source": [
        "def reshape_timeseries_to_image(data, window_size):\n",
        "    num_features = data.shape[1]\n",
        "    num_samples = data.shape[0] - window_size + 1\n",
        "    reshaped_data = np.zeros((num_samples, window_size, num_features))\n",
        "\n",
        "    for i in range(num_samples):\n",
        "        reshaped_data[i] = data[i:i+window_size]\n",
        "\n",
        "    return reshaped_data"
      ],
      "metadata": {
        "id": "oJau80kaRDCN"
      },
      "execution_count": null,
      "outputs": []
    },
    {
      "cell_type": "code",
      "source": [
        "TIME_STEPS = 6\n",
        "\n",
        "train_image = reshape_timeseries_to_image(xy_train, TIME_STEPS)\n",
        "test_image = reshape_timeseries_to_image(xy_test, TIME_STEPS)\n",
        "print(train_image.shape,train_image[0,:,:])\n",
        "print(test_image.shape)"
      ],
      "metadata": {
        "id": "3XNnPP4URInu"
      },
      "execution_count": null,
      "outputs": []
    },
    {
      "cell_type": "code",
      "source": [
        "input_shape = (TIME_STEPS, train_image.shape[2], 1)\n",
        "inputs = Input(shape=input_shape)\n",
        "\n",
        "# Encoding\n",
        "print(\"input : \", inputs.shape)\n",
        "x = Conv2D(64, (3, 3), activation='relu', padding='same')(inputs)\n",
        "print(\"1 : \",x.shape)\n",
        "x = MaxPooling2D((2, 1), padding='same')(x)\n",
        "print(\"2 : \",x.shape)\n",
        "\n",
        "# Decoding\n",
        "x = Conv2D(64, (3, 3), activation='relu', padding='same')(x)\n",
        "print(\"3 : \",x.shape)\n",
        "x = UpSampling2D((2, 1))(x)\n",
        "print(\"4 : \",x.shape)\n",
        "decoded = Conv2D(1, (3, 3), activation='sigmoid', padding='same')(x)\n",
        "print(\"5 : \",decoded.shape)\n",
        "\n",
        "autoencoder = Model(inputs, decoded)\n",
        "autoencoder.compile(optimizer='adam', loss='mse')\n",
        "\n",
        "# 학습\n",
        "autoencoder.fit(train_image, train_image, epochs=100, batch_size=32)"
      ],
      "metadata": {
        "id": "GWX_fW4TTwEs"
      },
      "execution_count": null,
      "outputs": []
    },
    {
      "cell_type": "code",
      "source": [
        "# Plotting\n",
        "original_images = np.copy(train_image)\n",
        "trainY_back_1 = original_images.reshape(-1, original_images.shape[-1])\n",
        "trainY_back = HJ_backMinMax(trainY_back_1)\n",
        "print(\"Original : \",trainY_back.shape)\n",
        "decoded_images = autoencoder.predict(original_images)\n",
        "decoded_images = np.squeeze(decoded_images, axis = 3)\n",
        "trainY_predict_2 = decoded_images.reshape(-1, decoded_images.shape[-1])\n",
        "trainY_predict_back = HJ_backMinMax(trainY_predict_2)\n",
        "print(\"Decoded : \", trainY_predict_back.shape)\n",
        "\n",
        "print(trainY_predict_2)"
      ],
      "metadata": {
        "id": "qSqjaPHdUIuE"
      },
      "execution_count": null,
      "outputs": []
    },
    {
      "cell_type": "code",
      "source": [
        "print(\"Original : \", trainY_back)\n",
        "print(\"Predicted : \" ,trainY_predict_back)"
      ],
      "metadata": {
        "id": "5hyjRpBdfXFN"
      },
      "execution_count": null,
      "outputs": []
    },
    {
      "cell_type": "code",
      "source": [
        "#Plotting Training data\n",
        "seq_length = 0\n",
        "plt.figure(figsize = (12,10))\n",
        "plt.subplot(2,2,1)\n",
        "plt.plot(trainY_back[seq_length:,0], color = 'blue')\n",
        "plt.plot(trainY_predict_back[:,0], color = 'red')\n",
        "plt.legend(['Real Current','Predicted Current'])\n",
        "\n",
        "plt.subplot(2,2,2)\n",
        "plt.plot(trainY_back[seq_length:,1], color = 'blue')\n",
        "plt.plot(trainY_predict_back[:,1], color = 'red')\n",
        "plt.legend(['Real Temperature','Predicted Temperature'])\n",
        "\n",
        "plt.subplot(2,2,3)\n",
        "plt.plot(trainY_back[seq_length:,2], color = 'blue')\n",
        "plt.plot(trainY_predict_back[:,2], color = 'red')\n",
        "plt.legend(['Real SOC','Predicted SOC'])\n",
        "\n",
        "plt.subplot(2,2,4)\n",
        "plt.plot(trainY_back[seq_length:,3], color = 'blue')\n",
        "plt.plot(trainY_predict_back[:,3], color = 'red')\n",
        "plt.legend(['Real Voltage','Predicted Voltage'])\n",
        "\n",
        "\n",
        "error_current_1 = trainY_back[:,0] - trainY_predict_back[:,0]\n",
        "error_temp_1 = trainY_back[:,1] - trainY_predict_back[:,1]\n",
        "error_soc_1 = trainY_back[:,2] - trainY_predict_back[:,2]\n",
        "error_voltage_1 = trainY_back[:,3] - trainY_predict_back[:,3]\n",
        "\n",
        "plt.figure(figsize = (10,5))\n",
        "plt.subplot(2,2,1)\n",
        "plt.plot(error_current_1, color = 'green')\n",
        "plt.legend(['Current Error'])\n",
        "\n",
        "plt.subplot(2,2,2)\n",
        "plt.plot(error_temp_1, color = 'green')\n",
        "plt.legend(['Temperature Error'])\n",
        "plt.ylim(-2, 2)\n",
        "\n",
        "plt.subplot(2,2,3)\n",
        "plt.plot(error_soc_1, color = 'green')\n",
        "plt.legend(['SOC Error'])\n",
        "plt.ylim(-10, 10)\n",
        "\n",
        "plt.subplot(2,2,4)\n",
        "plt.plot(error_voltage_1, color = 'green')\n",
        "plt.legend(['Voltage Error'])\n",
        "plt.ylim(-30, 30)\n"
      ],
      "metadata": {
        "id": "QTuQVh7cfOfY"
      },
      "execution_count": null,
      "outputs": []
    }
  ]
}