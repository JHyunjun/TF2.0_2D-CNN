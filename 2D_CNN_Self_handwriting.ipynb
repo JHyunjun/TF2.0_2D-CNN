{
  "nbformat": 4,
  "nbformat_minor": 0,
  "metadata": {
    "colab": {
      "name": "2D-CNN Self handwriting.ipynb",
      "private_outputs": true,
      "provenance": [],
      "collapsed_sections": [],
      "mount_file_id": "1MoYMYY5RB_vW5Ge6TEhjaiK38Hh18X54",
      "authorship_tag": "ABX9TyMEz/cQoRruRUja5ZRJc97T",
      "include_colab_link": true
    },
    "kernelspec": {
      "name": "python3",
      "display_name": "Python 3"
    },
    "language_info": {
      "name": "python"
    },
    "accelerator": "GPU"
  },
  "cells": [
    {
      "cell_type": "markdown",
      "metadata": {
        "id": "view-in-github",
        "colab_type": "text"
      },
      "source": [
        "<a href=\"https://colab.research.google.com/github/JHyunjun/TF2.0_2D-CNN/blob/main/2D_CNN_Self_handwriting.ipynb\" target=\"_parent\"><img src=\"https://colab.research.google.com/assets/colab-badge.svg\" alt=\"Open In Colab\"/></a>"
      ]
    },
    {
      "cell_type": "code",
      "metadata": {
        "id": "CIppXB2WmITS"
      },
      "source": [
        "#AI_Competition\n",
        "#Date : 2022.06.02\n",
        "\n",
        "import tensorflow as tf\n",
        "from tensorflow.keras import datasets, layers, models\n",
        "import matplotlib.pyplot as plt\n",
        "(train_images, train_labels), (test_images, test_labels) = datasets.mnist.load_data()\n",
        "\n",
        "\n",
        "# Normalization (0~1)\n",
        "train_images, test_images = train_images / 255.0, test_images / 255.0"
      ],
      "execution_count": null,
      "outputs": []
    },
    {
      "cell_type": "code",
      "metadata": {
        "id": "fVa1I5WIo-xq"
      },
      "source": [
        "#CNN part\n",
        "model = models.Sequential()\n",
        "model.add(layers.Conv2D(20, (5, 5), activation='relu', input_shape=(28, 28, 1)))\n",
        "model.add(layers.MaxPooling2D(pool_size = (2, 2), strides = (2,2), padding='Valid'))\n",
        "model.add(layers.Conv2D(50, (5, 5), activation='relu'))\n",
        "model.add(layers.MaxPooling2D(pool_size = (2, 2), strides = (2,2), padding='Valid'))\n",
        "model.summary()"
      ],
      "execution_count": null,
      "outputs": []
    },
    {
      "cell_type": "code",
      "metadata": {
        "id": "FdNSMXxCrfOt"
      },
      "source": [
        "#Dense Layer part\n",
        "learning_rate = 0.001\n",
        "batch_size = 128\n",
        "drop_rate = 0.3\n",
        "model.add(layers.Flatten())\n",
        "model.add(layers.Dense(500, use_bias = True, activation = 'relu'))\n",
        "model.add(layers.Dropout(drop_rate))\n",
        "model.add(layers.Dense(10, activation = 'softmax'))\n",
        "\n",
        "model.summary()"
      ],
      "execution_count": null,
      "outputs": []
    },
    {
      "cell_type": "code",
      "metadata": {
        "id": "5p7En_FXo6yE"
      },
      "source": [
        "#MNIST CNN Classifier \n",
        "\n",
        "print(train_images.shape)\n",
        "model.compile(optimizer=tf.keras.optimizers.Adam(lr=learning_rate), loss='sparse_categorical_crossentropy',metrics=['accuracy'])\n",
        "history = model.fit(train_images, train_labels, batch_size = batch_size, validation_split=0.2, epochs = 10, verbose = 1)\n",
        "\n",
        "# Accuracy Visualization\n",
        "plt.plot(history.history['accuracy'])\n",
        "plt.plot(history.history['val_accuracy'])\n",
        "plt.title('Model accuracy')\n",
        "plt.xlabel('Epoch')\n",
        "plt.ylabel('Accuracy')\n",
        "plt.legend(['Train', 'Test'], loc='upper left')\n",
        "plt.show()\n",
        "\n",
        "# Loss visualization\n",
        "plt.plot(history.history['loss'])\n",
        "plt.plot(history.history['val_loss'])\n",
        "plt.title('Model loss')\n",
        "plt.xlabel('Epoch')\n",
        "plt.ylabel('Loss')\n",
        "plt.legend(['Train', 'Test'], loc='upper left')\n",
        "plt.show()"
      ],
      "execution_count": null,
      "outputs": []
    },
    {
      "cell_type": "code",
      "metadata": {
        "id": "Q6MCfwGz8Ela"
      },
      "source": [
        "#Testifying\n",
        "test_loss, test_acc = model.evaluate(test_images, test_labels, verbose = 2)\n",
        "train_loss, train_acc = model.evaluate(train_images, train_labels, verbose = 2)\n",
        "print(\"Test Accuracy : \", test_acc)\n",
        "print(\"Train Accuracy : \", train_acc)"
      ],
      "execution_count": null,
      "outputs": []
    },
    {
      "cell_type": "code",
      "source": [
        "# Self Handwriting Testifying with openCV\n",
        "\n",
        "import cv2\n",
        "import numpy as np\n",
        "from PIL import Image\n",
        "\n",
        "hand_writing = cv2.imread('/content/drive/MyDrive/Colab Notebooks/CNN/AI_Compet2022/3.png',cv2.IMREAD_GRAYSCALE) #Suggested Self Handwriting image(3.png)\n",
        "#Normalizing\n",
        "hand_writing = hand_writing / 255.0\n",
        "hand_writing_reshape = hand_writing[110:270, 50:170]\n",
        "hand_writing_final = cv2.resize(hand_writing_reshape,(28,28))\n",
        "\n",
        "# Predicting class by already trained Model\n",
        "prediction = model.predict(hand_writing_final.reshape(1,28,28))\n",
        "prediction = prediction.argmax(axis=-1)\n",
        "print(\"Suggested Self handwriting is \", prediction)\n",
        "\n",
        "\n",
        "\n",
        "\n"
      ],
      "metadata": {
        "id": "qKn1dtM_-vzZ"
      },
      "execution_count": null,
      "outputs": []
    }
  ]
}